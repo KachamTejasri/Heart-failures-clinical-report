{
  "nbformat": 4,
  "nbformat_minor": 0,
  "metadata": {
    "colab": {
      "name": "J-ccass1.ipynb",
      "provenance": []
    },
    "kernelspec": {
      "name": "python3",
      "display_name": "Python 3"
    },
    "language_info": {
      "name": "python"
    }
  },
  "cells": [
    {
      "cell_type": "code",
      "execution_count": null,
      "metadata": {
        "id": "ICOAT7jPj1NJ"
      },
      "outputs": [],
      "source": [
        ""
      ]
    },
    {
      "cell_type": "code",
      "source": [
        "from google.colab import drive \n",
        "drive.mount('/content/drive')\n",
        "\n"
      ],
      "metadata": {
        "id": "dqJsBW3ej4jQ"
      },
      "execution_count": null,
      "outputs": []
    },
    {
      "cell_type": "code",
      "source": [
        "import pandas as pd\n",
        "d=pd.read_csv('/CarPrice_Assignment.csv')\n",
        "print(d)"
      ],
      "metadata": {
        "colab": {
          "base_uri": "https://localhost:8080/"
        },
        "id": "--r-IQnBlgNj",
        "outputId": "d2b3e4ac-384e-48a1-cadc-6454abe440b3"
      },
      "execution_count": 2,
      "outputs": [
        {
          "output_type": "stream",
          "name": "stdout",
          "text": [
            "     car_ID  symboling                   CarName fueltype aspiration  \\\n",
            "0         1          3        alfa-romero giulia      gas        std   \n",
            "1         2          3       alfa-romero stelvio      gas        std   \n",
            "2         3          1  alfa-romero Quadrifoglio      gas        std   \n",
            "3         4          2               audi 100 ls      gas        std   \n",
            "4         5          2                audi 100ls      gas        std   \n",
            "..      ...        ...                       ...      ...        ...   \n",
            "200     201         -1           volvo 145e (sw)      gas        std   \n",
            "201     202         -1               volvo 144ea      gas      turbo   \n",
            "202     203         -1               volvo 244dl      gas        std   \n",
            "203     204         -1                 volvo 246   diesel      turbo   \n",
            "204     205         -1               volvo 264gl      gas      turbo   \n",
            "\n",
            "    doornumber      carbody drivewheel enginelocation  wheelbase  ...  \\\n",
            "0          two  convertible        rwd          front       88.6  ...   \n",
            "1          two  convertible        rwd          front       88.6  ...   \n",
            "2          two    hatchback        rwd          front       94.5  ...   \n",
            "3         four        sedan        fwd          front       99.8  ...   \n",
            "4         four        sedan        4wd          front       99.4  ...   \n",
            "..         ...          ...        ...            ...        ...  ...   \n",
            "200       four        sedan        rwd          front      109.1  ...   \n",
            "201       four        sedan        rwd          front      109.1  ...   \n",
            "202       four        sedan        rwd          front      109.1  ...   \n",
            "203       four        sedan        rwd          front      109.1  ...   \n",
            "204       four        sedan        rwd          front      109.1  ...   \n",
            "\n",
            "     enginesize  fuelsystem  boreratio  stroke compressionratio horsepower  \\\n",
            "0           130        mpfi       3.47    2.68              9.0        111   \n",
            "1           130        mpfi       3.47    2.68              9.0        111   \n",
            "2           152        mpfi       2.68    3.47              9.0        154   \n",
            "3           109        mpfi       3.19    3.40             10.0        102   \n",
            "4           136        mpfi       3.19    3.40              8.0        115   \n",
            "..          ...         ...        ...     ...              ...        ...   \n",
            "200         141        mpfi       3.78    3.15              9.5        114   \n",
            "201         141        mpfi       3.78    3.15              8.7        160   \n",
            "202         173        mpfi       3.58    2.87              8.8        134   \n",
            "203         145         idi       3.01    3.40             23.0        106   \n",
            "204         141        mpfi       3.78    3.15              9.5        114   \n",
            "\n",
            "     peakrpm citympg  highwaympg    price  \n",
            "0       5000      21          27  13495.0  \n",
            "1       5000      21          27  16500.0  \n",
            "2       5000      19          26  16500.0  \n",
            "3       5500      24          30  13950.0  \n",
            "4       5500      18          22  17450.0  \n",
            "..       ...     ...         ...      ...  \n",
            "200     5400      23          28  16845.0  \n",
            "201     5300      19          25  19045.0  \n",
            "202     5500      18          23  21485.0  \n",
            "203     4800      26          27  22470.0  \n",
            "204     5400      19          25  22625.0  \n",
            "\n",
            "[205 rows x 26 columns]\n"
          ]
        }
      ]
    },
    {
      "cell_type": "code",
      "source": [
        "print(d.isnull)\n",
        "d1=d.fillna(0)"
      ],
      "metadata": {
        "colab": {
          "base_uri": "https://localhost:8080/"
        },
        "id": "8pNdA8ZNlyUV",
        "outputId": "ea7d6be1-2cb4-4173-c449-e5924c97f27b"
      },
      "execution_count": 3,
      "outputs": [
        {
          "output_type": "stream",
          "name": "stdout",
          "text": [
            "<bound method DataFrame.isnull of      car_ID  symboling                   CarName fueltype aspiration  \\\n",
            "0         1          3        alfa-romero giulia      gas        std   \n",
            "1         2          3       alfa-romero stelvio      gas        std   \n",
            "2         3          1  alfa-romero Quadrifoglio      gas        std   \n",
            "3         4          2               audi 100 ls      gas        std   \n",
            "4         5          2                audi 100ls      gas        std   \n",
            "..      ...        ...                       ...      ...        ...   \n",
            "200     201         -1           volvo 145e (sw)      gas        std   \n",
            "201     202         -1               volvo 144ea      gas      turbo   \n",
            "202     203         -1               volvo 244dl      gas        std   \n",
            "203     204         -1                 volvo 246   diesel      turbo   \n",
            "204     205         -1               volvo 264gl      gas      turbo   \n",
            "\n",
            "    doornumber      carbody drivewheel enginelocation  wheelbase  ...  \\\n",
            "0          two  convertible        rwd          front       88.6  ...   \n",
            "1          two  convertible        rwd          front       88.6  ...   \n",
            "2          two    hatchback        rwd          front       94.5  ...   \n",
            "3         four        sedan        fwd          front       99.8  ...   \n",
            "4         four        sedan        4wd          front       99.4  ...   \n",
            "..         ...          ...        ...            ...        ...  ...   \n",
            "200       four        sedan        rwd          front      109.1  ...   \n",
            "201       four        sedan        rwd          front      109.1  ...   \n",
            "202       four        sedan        rwd          front      109.1  ...   \n",
            "203       four        sedan        rwd          front      109.1  ...   \n",
            "204       four        sedan        rwd          front      109.1  ...   \n",
            "\n",
            "     enginesize  fuelsystem  boreratio  stroke compressionratio horsepower  \\\n",
            "0           130        mpfi       3.47    2.68              9.0        111   \n",
            "1           130        mpfi       3.47    2.68              9.0        111   \n",
            "2           152        mpfi       2.68    3.47              9.0        154   \n",
            "3           109        mpfi       3.19    3.40             10.0        102   \n",
            "4           136        mpfi       3.19    3.40              8.0        115   \n",
            "..          ...         ...        ...     ...              ...        ...   \n",
            "200         141        mpfi       3.78    3.15              9.5        114   \n",
            "201         141        mpfi       3.78    3.15              8.7        160   \n",
            "202         173        mpfi       3.58    2.87              8.8        134   \n",
            "203         145         idi       3.01    3.40             23.0        106   \n",
            "204         141        mpfi       3.78    3.15              9.5        114   \n",
            "\n",
            "     peakrpm citympg  highwaympg    price  \n",
            "0       5000      21          27  13495.0  \n",
            "1       5000      21          27  16500.0  \n",
            "2       5000      19          26  16500.0  \n",
            "3       5500      24          30  13950.0  \n",
            "4       5500      18          22  17450.0  \n",
            "..       ...     ...         ...      ...  \n",
            "200     5400      23          28  16845.0  \n",
            "201     5300      19          25  19045.0  \n",
            "202     5500      18          23  21485.0  \n",
            "203     4800      26          27  22470.0  \n",
            "204     5400      19          25  22625.0  \n",
            "\n",
            "[205 rows x 26 columns]>\n"
          ]
        }
      ]
    }
  ]
}